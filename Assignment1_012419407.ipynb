{
 "cells": [
  {
   "cell_type": "code",
   "execution_count": 1,
   "metadata": {},
   "outputs": [],
   "source": [
    "import pandas as pd\n",
    "import numpy as np\n",
    "import dill"
   ]
  },
  {
   "cell_type": "code",
   "execution_count": 2,
   "metadata": {},
   "outputs": [],
   "source": [
    "input_data= pd.read_csv('/Users/rakhil163/Desktop/review.csv',encoding=\"utf8\")"
   ]
  },
  {
   "cell_type": "code",
   "execution_count": null,
   "metadata": {},
   "outputs": [],
   "source": [
    "dill.dump_session('note_book.db')"
   ]
  },
  {
   "cell_type": "code",
   "execution_count": 3,
   "metadata": {},
   "outputs": [],
   "source": [
    "data = input_data"
   ]
  },
  {
   "cell_type": "code",
   "execution_count": 4,
   "metadata": {},
   "outputs": [
    {
     "data": {
      "text/html": [
       "<div>\n",
       "<style scoped>\n",
       "    .dataframe tbody tr th:only-of-type {\n",
       "        vertical-align: middle;\n",
       "    }\n",
       "\n",
       "    .dataframe tbody tr th {\n",
       "        vertical-align: top;\n",
       "    }\n",
       "\n",
       "    .dataframe thead th {\n",
       "        text-align: right;\n",
       "    }\n",
       "</style>\n",
       "<table border=\"1\" class=\"dataframe\">\n",
       "  <thead>\n",
       "    <tr style=\"text-align: right;\">\n",
       "      <th></th>\n",
       "      <th>business_id</th>\n",
       "      <th>cool</th>\n",
       "      <th>date</th>\n",
       "      <th>funny</th>\n",
       "      <th>review_id</th>\n",
       "      <th>stars</th>\n",
       "      <th>text</th>\n",
       "      <th>useful</th>\n",
       "      <th>user_id</th>\n",
       "      <th>Label</th>\n",
       "    </tr>\n",
       "  </thead>\n",
       "  <tbody>\n",
       "    <tr>\n",
       "      <th>0</th>\n",
       "      <td>ujmEBvifdJM6h6RLv4wQIg</td>\n",
       "      <td>0</td>\n",
       "      <td>2013-05-07 04:34:36</td>\n",
       "      <td>1</td>\n",
       "      <td>Q1sbwvVQXV2734tPgoKj4Q</td>\n",
       "      <td>1.0</td>\n",
       "      <td>Total bill for this horrible service? Over $8G...</td>\n",
       "      <td>6</td>\n",
       "      <td>hG7b0MtEbXx5QzbzE6C_VA</td>\n",
       "      <td>0</td>\n",
       "    </tr>\n",
       "    <tr>\n",
       "      <th>1</th>\n",
       "      <td>NZnhc2sEQy3RmzKTZnqtwQ</td>\n",
       "      <td>0</td>\n",
       "      <td>2017-01-14 21:30:33</td>\n",
       "      <td>0</td>\n",
       "      <td>GJXCdrto3ASJOqKeVWPi6Q</td>\n",
       "      <td>5.0</td>\n",
       "      <td>I *adore* Travis at the Hard Rock's new Kelly ...</td>\n",
       "      <td>0</td>\n",
       "      <td>yXQM5uF2jS6es16SJzNHfg</td>\n",
       "      <td>2</td>\n",
       "    </tr>\n",
       "    <tr>\n",
       "      <th>2</th>\n",
       "      <td>WTqjgwHlXbSFevF32_DJVw</td>\n",
       "      <td>0</td>\n",
       "      <td>2016-11-09 20:09:03</td>\n",
       "      <td>0</td>\n",
       "      <td>2TzJjDVDEuAW6MR5Vuc1ug</td>\n",
       "      <td>5.0</td>\n",
       "      <td>I have to say that this office really has it t...</td>\n",
       "      <td>3</td>\n",
       "      <td>n6-Gk65cPZL6Uz8qRm3NYw</td>\n",
       "      <td>2</td>\n",
       "    </tr>\n",
       "    <tr>\n",
       "      <th>3</th>\n",
       "      <td>ikCg8xy5JIg_NGPx-MSIDA</td>\n",
       "      <td>0</td>\n",
       "      <td>2018-01-09 20:56:38</td>\n",
       "      <td>0</td>\n",
       "      <td>yi0R0Ugj_xUx_Nek0-_Qig</td>\n",
       "      <td>5.0</td>\n",
       "      <td>Went in for a lunch. Steak sandwich was delici...</td>\n",
       "      <td>0</td>\n",
       "      <td>dacAIZ6fTM6mqwW5uxkskg</td>\n",
       "      <td>2</td>\n",
       "    </tr>\n",
       "    <tr>\n",
       "      <th>4</th>\n",
       "      <td>b1b1eb3uo-w561D0ZfCEiQ</td>\n",
       "      <td>0</td>\n",
       "      <td>2018-01-30 23:07:38</td>\n",
       "      <td>0</td>\n",
       "      <td>11a8sVPMUFtaC7_ABRkmtw</td>\n",
       "      <td>1.0</td>\n",
       "      <td>Today was my second out of three sessions I ha...</td>\n",
       "      <td>7</td>\n",
       "      <td>ssoyf2_x0EQMed6fgHeMyQ</td>\n",
       "      <td>0</td>\n",
       "    </tr>\n",
       "    <tr>\n",
       "      <th>5</th>\n",
       "      <td>eU_713ec6fTGNO4BegRaww</td>\n",
       "      <td>0</td>\n",
       "      <td>2013-01-20 13:25:59</td>\n",
       "      <td>0</td>\n",
       "      <td>fdiNeiN_hoCxCMy2wTRW9g</td>\n",
       "      <td>4.0</td>\n",
       "      <td>I'll be the first to admit that I was not exci...</td>\n",
       "      <td>0</td>\n",
       "      <td>w31MKYsNFMrjhWxxAb5wIw</td>\n",
       "      <td>2</td>\n",
       "    </tr>\n",
       "    <tr>\n",
       "      <th>6</th>\n",
       "      <td>3fw2X5bZYeW9xCz_zGhOHg</td>\n",
       "      <td>5</td>\n",
       "      <td>2016-05-07 01:21:02</td>\n",
       "      <td>4</td>\n",
       "      <td>G7XHMxG0bx9oBJNECG4IFg</td>\n",
       "      <td>3.0</td>\n",
       "      <td>Tracy dessert had a big name in Hong Kong and ...</td>\n",
       "      <td>5</td>\n",
       "      <td>jlu4CztcSxrKx56ba1a5AQ</td>\n",
       "      <td>1</td>\n",
       "    </tr>\n",
       "    <tr>\n",
       "      <th>7</th>\n",
       "      <td>zvO-PJCpNk4fgAVUnExYAA</td>\n",
       "      <td>1</td>\n",
       "      <td>2010-10-05 19:12:35</td>\n",
       "      <td>1</td>\n",
       "      <td>8e9HxxLjjqc9ez5ezzN7iQ</td>\n",
       "      <td>1.0</td>\n",
       "      <td>This place has gone down hill.  Clearly they h...</td>\n",
       "      <td>3</td>\n",
       "      <td>d6xvYpyzcfbF_AZ8vMB7QA</td>\n",
       "      <td>0</td>\n",
       "    </tr>\n",
       "    <tr>\n",
       "      <th>8</th>\n",
       "      <td>b2jN2mm9Wf3RcrZCgfo1cg</td>\n",
       "      <td>0</td>\n",
       "      <td>2015-01-18 14:04:18</td>\n",
       "      <td>0</td>\n",
       "      <td>qrffudO73zsslZbe8B9D3Q</td>\n",
       "      <td>2.0</td>\n",
       "      <td>I was really looking forward to visiting after...</td>\n",
       "      <td>1</td>\n",
       "      <td>sG_h0dIzTKWa3Q6fmb4u-g</td>\n",
       "      <td>0</td>\n",
       "    </tr>\n",
       "    <tr>\n",
       "      <th>9</th>\n",
       "      <td>oxwGyA17NL6c5t1Etg5WgQ</td>\n",
       "      <td>1</td>\n",
       "      <td>2012-02-29 21:52:43</td>\n",
       "      <td>0</td>\n",
       "      <td>RS_GTIT6836bCaPy637kNQ</td>\n",
       "      <td>3.0</td>\n",
       "      <td>It's a giant Best Buy with 66 registers.  I do...</td>\n",
       "      <td>1</td>\n",
       "      <td>nMeCE5-xsdleyxYuNZ_7rA</td>\n",
       "      <td>1</td>\n",
       "    </tr>\n",
       "    <tr>\n",
       "      <th>10</th>\n",
       "      <td>8mIrX_LrOnAqWsB5JrOojQ</td>\n",
       "      <td>0</td>\n",
       "      <td>2011-11-30 02:11:15</td>\n",
       "      <td>0</td>\n",
       "      <td>kbtscdyz6lvrtGjD1quQTg</td>\n",
       "      <td>4.0</td>\n",
       "      <td>Like walking back in time, every Saturday morn...</td>\n",
       "      <td>0</td>\n",
       "      <td>FIk4lQQu1eTe2EpzQ4xhBA</td>\n",
       "      <td>2</td>\n",
       "    </tr>\n",
       "    <tr>\n",
       "      <th>11</th>\n",
       "      <td>mRUVMJkUGxrByzMQ2MuOpA</td>\n",
       "      <td>0</td>\n",
       "      <td>2017-12-15 23:27:08</td>\n",
       "      <td>1</td>\n",
       "      <td>-I5umRTkhw15RqpKMl_o1Q</td>\n",
       "      <td>1.0</td>\n",
       "      <td>Walked in around 4 on a Friday afternoon, we s...</td>\n",
       "      <td>0</td>\n",
       "      <td>-mA3-1mN4JIEkqOtdbNXCQ</td>\n",
       "      <td>0</td>\n",
       "    </tr>\n",
       "    <tr>\n",
       "      <th>12</th>\n",
       "      <td>FxLfqxdYPA6Z85PFKaqLrg</td>\n",
       "      <td>0</td>\n",
       "      <td>2016-05-07 01:36:53</td>\n",
       "      <td>0</td>\n",
       "      <td>Z7wgXp98wYB57QdRY3HQ3w</td>\n",
       "      <td>4.0</td>\n",
       "      <td>Wow. So surprised at the one and two star revi...</td>\n",
       "      <td>0</td>\n",
       "      <td>GYNnVehQeXjty0xH7-6Fhw</td>\n",
       "      <td>2</td>\n",
       "    </tr>\n",
       "    <tr>\n",
       "      <th>13</th>\n",
       "      <td>LUN6swQYa4xJKaM_UEUOEw</td>\n",
       "      <td>0</td>\n",
       "      <td>2018-04-27 20:25:26</td>\n",
       "      <td>0</td>\n",
       "      <td>qlXw1JQ0UodW7qrmVgwCXw</td>\n",
       "      <td>4.0</td>\n",
       "      <td>Michael from Red Carpet VIP is amazing ! I rea...</td>\n",
       "      <td>0</td>\n",
       "      <td>bAhqAPoWaZYcyYi7bs024Q</td>\n",
       "      <td>2</td>\n",
       "    </tr>\n",
       "    <tr>\n",
       "      <th>14</th>\n",
       "      <td>AakkkTuGZA2KBodKi2_u8A</td>\n",
       "      <td>0</td>\n",
       "      <td>2012-07-16 00:37:14</td>\n",
       "      <td>1</td>\n",
       "      <td>JVcjMhlavKKn3UIt9p9OXA</td>\n",
       "      <td>1.0</td>\n",
       "      <td>I cannot believe how things have changed in 3 ...</td>\n",
       "      <td>1</td>\n",
       "      <td>TpyOT5E16YASd7EWjLQlrw</td>\n",
       "      <td>0</td>\n",
       "    </tr>\n",
       "    <tr>\n",
       "      <th>15</th>\n",
       "      <td>YvrylyuWgbP90RgMqZQVnQ</td>\n",
       "      <td>0</td>\n",
       "      <td>2017-04-07 21:27:49</td>\n",
       "      <td>0</td>\n",
       "      <td>svK3nBU7Rk8VfGorlrN52A</td>\n",
       "      <td>5.0</td>\n",
       "      <td>You can't really find anything wrong with this...</td>\n",
       "      <td>0</td>\n",
       "      <td>NJlxGtouq06hhC7sS2ECYw</td>\n",
       "      <td>2</td>\n",
       "    </tr>\n",
       "    <tr>\n",
       "      <th>16</th>\n",
       "      <td>NyLYY8q1-H3hfsTwuwLPCg</td>\n",
       "      <td>0</td>\n",
       "      <td>2015-01-03 22:47:34</td>\n",
       "      <td>0</td>\n",
       "      <td>1wVA2-vQIuW_ClmXkDxqMQ</td>\n",
       "      <td>4.0</td>\n",
       "      <td>Great lunch today. Staff was very helpful in a...</td>\n",
       "      <td>0</td>\n",
       "      <td>86J5DwcFk4f4In1Vxe2TvA</td>\n",
       "      <td>2</td>\n",
       "    </tr>\n",
       "    <tr>\n",
       "      <th>17</th>\n",
       "      <td>cHdJXLlKNWixBXpDwEGb_A</td>\n",
       "      <td>1</td>\n",
       "      <td>2015-04-01 16:30:00</td>\n",
       "      <td>7</td>\n",
       "      <td>6BnQwlxRn7ZuWdzninM9sQ</td>\n",
       "      <td>3.0</td>\n",
       "      <td>I love chinese food and I love mexican food. W...</td>\n",
       "      <td>1</td>\n",
       "      <td>JSrP-dUmLlwZiI7Dp3PQ2A</td>\n",
       "      <td>1</td>\n",
       "    </tr>\n",
       "    <tr>\n",
       "      <th>18</th>\n",
       "      <td>6lj2BJ4tJeu7db5asGHQ4w</td>\n",
       "      <td>0</td>\n",
       "      <td>2017-05-26 01:23:19</td>\n",
       "      <td>0</td>\n",
       "      <td>rEITo90tpyKmEfNDp3Ou3A</td>\n",
       "      <td>5.0</td>\n",
       "      <td>We've been a huge Slim's fan since they opened...</td>\n",
       "      <td>0</td>\n",
       "      <td>6Fz_nus_OG4gar721OKgZA</td>\n",
       "      <td>2</td>\n",
       "    </tr>\n",
       "    <tr>\n",
       "      <th>19</th>\n",
       "      <td>y-Iw6dZflNix4BdwIyTNGA</td>\n",
       "      <td>0</td>\n",
       "      <td>2014-06-27 21:19:23</td>\n",
       "      <td>0</td>\n",
       "      <td>4bUyL7lzoWzDZaJETAKREg</td>\n",
       "      <td>3.0</td>\n",
       "      <td>Good selection of classes of beers and mains. ...</td>\n",
       "      <td>0</td>\n",
       "      <td>_N7Ndn29bpll_961oPeEfw</td>\n",
       "      <td>1</td>\n",
       "    </tr>\n",
       "  </tbody>\n",
       "</table>\n",
       "</div>"
      ],
      "text/plain": [
       "               business_id  cool                 date  funny  \\\n",
       "0   ujmEBvifdJM6h6RLv4wQIg     0  2013-05-07 04:34:36      1   \n",
       "1   NZnhc2sEQy3RmzKTZnqtwQ     0  2017-01-14 21:30:33      0   \n",
       "2   WTqjgwHlXbSFevF32_DJVw     0  2016-11-09 20:09:03      0   \n",
       "3   ikCg8xy5JIg_NGPx-MSIDA     0  2018-01-09 20:56:38      0   \n",
       "4   b1b1eb3uo-w561D0ZfCEiQ     0  2018-01-30 23:07:38      0   \n",
       "5   eU_713ec6fTGNO4BegRaww     0  2013-01-20 13:25:59      0   \n",
       "6   3fw2X5bZYeW9xCz_zGhOHg     5  2016-05-07 01:21:02      4   \n",
       "7   zvO-PJCpNk4fgAVUnExYAA     1  2010-10-05 19:12:35      1   \n",
       "8   b2jN2mm9Wf3RcrZCgfo1cg     0  2015-01-18 14:04:18      0   \n",
       "9   oxwGyA17NL6c5t1Etg5WgQ     1  2012-02-29 21:52:43      0   \n",
       "10  8mIrX_LrOnAqWsB5JrOojQ     0  2011-11-30 02:11:15      0   \n",
       "11  mRUVMJkUGxrByzMQ2MuOpA     0  2017-12-15 23:27:08      1   \n",
       "12  FxLfqxdYPA6Z85PFKaqLrg     0  2016-05-07 01:36:53      0   \n",
       "13  LUN6swQYa4xJKaM_UEUOEw     0  2018-04-27 20:25:26      0   \n",
       "14  AakkkTuGZA2KBodKi2_u8A     0  2012-07-16 00:37:14      1   \n",
       "15  YvrylyuWgbP90RgMqZQVnQ     0  2017-04-07 21:27:49      0   \n",
       "16  NyLYY8q1-H3hfsTwuwLPCg     0  2015-01-03 22:47:34      0   \n",
       "17  cHdJXLlKNWixBXpDwEGb_A     1  2015-04-01 16:30:00      7   \n",
       "18  6lj2BJ4tJeu7db5asGHQ4w     0  2017-05-26 01:23:19      0   \n",
       "19  y-Iw6dZflNix4BdwIyTNGA     0  2014-06-27 21:19:23      0   \n",
       "\n",
       "                 review_id  stars  \\\n",
       "0   Q1sbwvVQXV2734tPgoKj4Q    1.0   \n",
       "1   GJXCdrto3ASJOqKeVWPi6Q    5.0   \n",
       "2   2TzJjDVDEuAW6MR5Vuc1ug    5.0   \n",
       "3   yi0R0Ugj_xUx_Nek0-_Qig    5.0   \n",
       "4   11a8sVPMUFtaC7_ABRkmtw    1.0   \n",
       "5   fdiNeiN_hoCxCMy2wTRW9g    4.0   \n",
       "6   G7XHMxG0bx9oBJNECG4IFg    3.0   \n",
       "7   8e9HxxLjjqc9ez5ezzN7iQ    1.0   \n",
       "8   qrffudO73zsslZbe8B9D3Q    2.0   \n",
       "9   RS_GTIT6836bCaPy637kNQ    3.0   \n",
       "10  kbtscdyz6lvrtGjD1quQTg    4.0   \n",
       "11  -I5umRTkhw15RqpKMl_o1Q    1.0   \n",
       "12  Z7wgXp98wYB57QdRY3HQ3w    4.0   \n",
       "13  qlXw1JQ0UodW7qrmVgwCXw    4.0   \n",
       "14  JVcjMhlavKKn3UIt9p9OXA    1.0   \n",
       "15  svK3nBU7Rk8VfGorlrN52A    5.0   \n",
       "16  1wVA2-vQIuW_ClmXkDxqMQ    4.0   \n",
       "17  6BnQwlxRn7ZuWdzninM9sQ    3.0   \n",
       "18  rEITo90tpyKmEfNDp3Ou3A    5.0   \n",
       "19  4bUyL7lzoWzDZaJETAKREg    3.0   \n",
       "\n",
       "                                                 text  useful  \\\n",
       "0   Total bill for this horrible service? Over $8G...       6   \n",
       "1   I *adore* Travis at the Hard Rock's new Kelly ...       0   \n",
       "2   I have to say that this office really has it t...       3   \n",
       "3   Went in for a lunch. Steak sandwich was delici...       0   \n",
       "4   Today was my second out of three sessions I ha...       7   \n",
       "5   I'll be the first to admit that I was not exci...       0   \n",
       "6   Tracy dessert had a big name in Hong Kong and ...       5   \n",
       "7   This place has gone down hill.  Clearly they h...       3   \n",
       "8   I was really looking forward to visiting after...       1   \n",
       "9   It's a giant Best Buy with 66 registers.  I do...       1   \n",
       "10  Like walking back in time, every Saturday morn...       0   \n",
       "11  Walked in around 4 on a Friday afternoon, we s...       0   \n",
       "12  Wow. So surprised at the one and two star revi...       0   \n",
       "13  Michael from Red Carpet VIP is amazing ! I rea...       0   \n",
       "14  I cannot believe how things have changed in 3 ...       1   \n",
       "15  You can't really find anything wrong with this...       0   \n",
       "16  Great lunch today. Staff was very helpful in a...       0   \n",
       "17  I love chinese food and I love mexican food. W...       1   \n",
       "18  We've been a huge Slim's fan since they opened...       0   \n",
       "19  Good selection of classes of beers and mains. ...       0   \n",
       "\n",
       "                   user_id  Label  \n",
       "0   hG7b0MtEbXx5QzbzE6C_VA      0  \n",
       "1   yXQM5uF2jS6es16SJzNHfg      2  \n",
       "2   n6-Gk65cPZL6Uz8qRm3NYw      2  \n",
       "3   dacAIZ6fTM6mqwW5uxkskg      2  \n",
       "4   ssoyf2_x0EQMed6fgHeMyQ      0  \n",
       "5   w31MKYsNFMrjhWxxAb5wIw      2  \n",
       "6   jlu4CztcSxrKx56ba1a5AQ      1  \n",
       "7   d6xvYpyzcfbF_AZ8vMB7QA      0  \n",
       "8   sG_h0dIzTKWa3Q6fmb4u-g      0  \n",
       "9   nMeCE5-xsdleyxYuNZ_7rA      1  \n",
       "10  FIk4lQQu1eTe2EpzQ4xhBA      2  \n",
       "11  -mA3-1mN4JIEkqOtdbNXCQ      0  \n",
       "12  GYNnVehQeXjty0xH7-6Fhw      2  \n",
       "13  bAhqAPoWaZYcyYi7bs024Q      2  \n",
       "14  TpyOT5E16YASd7EWjLQlrw      0  \n",
       "15  NJlxGtouq06hhC7sS2ECYw      2  \n",
       "16  86J5DwcFk4f4In1Vxe2TvA      2  \n",
       "17  JSrP-dUmLlwZiI7Dp3PQ2A      1  \n",
       "18  6Fz_nus_OG4gar721OKgZA      2  \n",
       "19  _N7Ndn29bpll_961oPeEfw      1  "
      ]
     },
     "execution_count": 4,
     "metadata": {},
     "output_type": "execute_result"
    }
   ],
   "source": [
    "input_data.dropna(inplace=True)\n",
    "input_data['Label'] = np.where(input_data['stars'] > 3, 2, \n",
    "         (np.where(input_data['stars'] <3, 0, 1)))\n",
    "input_data.head(20)"
   ]
  },
  {
   "cell_type": "code",
   "execution_count": 5,
   "metadata": {},
   "outputs": [
    {
     "name": "stdout",
     "output_type": "stream",
     "text": [
      "X_train first entry: \n",
      "\n",
      " Total bill for this horrible service? Over $8Gs. These crooks actually had the nerve to charge us $69 for 3 pills. I checked online the pills can be had for 19 cents EACH! Avoid Hospital ERs at all costs.\n",
      "\n",
      "\n",
      "X_train shape:  (5014423,)\n"
     ]
    }
   ],
   "source": [
    "from sklearn.model_selection import train_test_split\n",
    "X_train, X_test, y_train, y_test = train_test_split(input_data['text'], input_data['Label'], random_state = 0)\n",
    "print('X_train first entry: \\n\\n', X_train[0])\n",
    "print('\\n\\nX_train shape: ', X_train.shape)\n"
   ]
  },
  {
   "cell_type": "code",
   "execution_count": null,
   "metadata": {},
   "outputs": [],
   "source": []
  },
  {
   "cell_type": "code",
   "execution_count": 7,
   "metadata": {},
   "outputs": [],
   "source": [
    "maxcap = 100000\n",
    "X_train = X_train[:maxcap]\n",
    "Y_train = y_train[:maxcap]\n",
    "X_test = X_test[:20000]\n",
    "Y_test = y_test[:20000]"
   ]
  },
  {
   "cell_type": "code",
   "execution_count": 8,
   "metadata": {},
   "outputs": [],
   "source": [
    "from sklearn.feature_extraction.text import CountVectorizer\n",
    "vect = CountVectorizer().fit(X_train)\n",
    "x_train_v = vect.transform(X_train)\n"
   ]
  },
  {
   "cell_type": "code",
   "execution_count": 9,
   "metadata": {},
   "outputs": [],
   "source": [
    "x_train_v = vect.transform(X_train)"
   ]
  },
  {
   "cell_type": "code",
   "execution_count": null,
   "metadata": {},
   "outputs": [],
   "source": [
    "from sklearn.linear_model import LogisticRegression\n",
    "model = LogisticRegression()\n",
    "model.fit(x_train_v, Y_train)"
   ]
  },
  {
   "cell_type": "code",
   "execution_count": null,
   "metadata": {},
   "outputs": [],
   "source": [
    "from sklearn.metrics import accuracy_score\n",
    "x_train_v = vect.transform(X_test)\n",
    "arr1 = model.predict(x_test_v)\n",
    "accuracy_score(Y_test, arr1)"
   ]
  },
  {
   "cell_type": "markdown",
   "metadata": {},
   "source": [
    "0.8402222"
   ]
  },
  {
   "cell_type": "code",
   "execution_count": null,
   "metadata": {},
   "outputs": [],
   "source": [
    "from sklearn.feature_extraction.text import TfidfVectorizer\n",
    "vect = TfidfVectorizer(min_input_data = 5).fit(X_train)\n",
    "len(vect.get_feature_names())"
   ]
  },
  {
   "cell_type": "code",
   "execution_count": null,
   "metadata": {},
   "outputs": [],
   "source": [
    "x_train_v = vect.transform(X_train)"
   ]
  },
  {
   "cell_type": "code",
   "execution_count": null,
   "metadata": {},
   "outputs": [],
   "source": [
    "from sklearn.linear_model import LogisticRegression\n",
    "model = LogisticRegression()\n",
    "model.fit(x_train_v, Y_train)"
   ]
  },
  {
   "cell_type": "code",
   "execution_count": null,
   "metadata": {},
   "outputs": [],
   "source": [
    "from sklearn.metrics import accuracy_score\n",
    "x_test_v = vect.transform(X_test)\n",
    "arr1 = model.predict(x_test_v)\n",
    "accuracy_score(Y_test, arr1)"
   ]
  },
  {
   "cell_type": "markdown",
   "metadata": {},
   "source": [
    "0.8577"
   ]
  },
  {
   "cell_type": "code",
   "execution_count": 8,
   "metadata": {},
   "outputs": [],
   "source": [
    "from sklearn.feature_extraction.text import CountVectorizer\n",
    "vect = CountVectorizer(min_input_data = 5, ngram_range = (1,2)).fit(X_train)\n",
    "x_train_v = vect.transform(X_train)"
   ]
  },
  {
   "cell_type": "code",
   "execution_count": 91,
   "metadata": {},
   "outputs": [
    {
     "data": {
      "image/png": "[encoded data removed]",
      "text/plain": [
       "<Figure size 432x288 with 1 Axes>"
      ]
     },
     "metadata": {
      "needs_background": "light"
     },
     "output_type": "display_data"
    }
   ],
   "source": [
    "from wordcloud import WordCloud\n",
    "import matplotlib.pyplot as plt\n",
    "input_data1 = pd.DataFrame(X_train)\n",
    "str1 = \"\"\n",
    "for i in input_data1['text']:\n",
    "    str1+=i\n",
    "wordcloud = WordCloud(background_color=\"white\").generate(str1)\n",
    "plt.imshow(wordcloud, interpolation='bilinear')\n",
    "plt.axis(\"off\")\n",
    "plt.show()"
   ]
  },
  {
   "cell_type": "code",
   "execution_count": 9,
   "metadata": {},
   "outputs": [
    {
     "name": "stdout",
     "output_type": "stream",
     "text": [
      "2811457    The first problem is that my tenants hated the...\n",
      "4959831    I'm so happy to have something new in the nort...\n",
      "3526510    After getting bad service yesterday at the Par...\n",
      "5299741    Wife took me here for my 40th birthday.  They ...\n",
      "3458608    Coming from the industry I jump at any place t...\n",
      "1694223    Being chinese and born in Montreal, I was sooo...\n",
      "2142974    I have been going to McGowan Michael for past ...\n",
      "98634      Overpriced and abysmal service.  We arrived du...\n",
      "5313607    I'm always skeptical about ordering food and h...\n",
      "6258615    Very friendly, helpful group of guys in here! ...\n",
      "3566771    I didnt know this was a vegan restaurant but i...\n",
      "1467401    This place is fast. Same day service; washed a...\n",
      "4690131    The worst dump ever...customer service SUCKS.....\n",
      "5557787    Fairly good theater/bowling alley/locals casin...\n",
      "593757     What a good find! Food was better then I expec...\n",
      "260029     The pharmaceutical staff is by far the kindest...\n",
      "6453384    Seriously so good and the prices are great!! W...\n",
      "5580143    It's a nice bar and grill and they have the us...\n",
      "1306916    Looking for a brunch spot for a birthday celeb...\n",
      "3044054    I made an appointment to have my kids' picture...\n",
      "258087     Worst company ever. Do yourself a favor and do...\n",
      "5782015    For the most part the food it good. my issue w...\n",
      "5382506    Love going to Delmonico's almost everytime I g...\n",
      "4743207    Came here on a Sunday night at 5pm. There was ...\n",
      "4572406    This tasted like crap! Who puts curry powder a...\n",
      "8774       Ugh...the heat in this establishment is only c...\n",
      "4425381    Awesome little place. The food was really good...\n",
      "5295499    I will keep this short and sweet since I've on...\n",
      "4080010    What a great place for food and drinks.  From ...\n",
      "3640081    I ordered the lemon herb chicken and it was pr...\n",
      "                                 ...                        \n",
      "5626400    Came here to get 4 ear piercing done. Really c...\n",
      "4759978    I have been to visit the Titanic Exhibition se...\n",
      "1149291    Yummmmmy! Very good, authentic middle-eastern ...\n",
      "4515090    Avoid! The Home Depot at this location needs d...\n",
      "4112674    Definitely our favorite go to for street tacos...\n",
      "241443     This place is so average!!!! I don't understan...\n",
      "2978549    Went to the Federal for brunch and had the waf...\n",
      "6076859    Food was mediocre with poor service. \\nStarted...\n",
      "3498618    A really convenient spot to grab coffee or a q...\n",
      "4779260    Got the combo platter. I'd rate:\\n1. Fatty bri...\n",
      "3851743    It's been over a year since my last rating, an...\n",
      "2575547    Okay, here is the story. We went here after we...\n",
      "6136295    Cute little coffee/dessert spot. Got the white...\n",
      "6657105    I wish there were no stars. \\nYou're better of...\n",
      "6228695    This was the absolute best place me and my fia...\n",
      "3970708    I was first in line waiting Friday morning 6:3...\n",
      "1789759    The food is good, the service is friendly and ...\n",
      "1390612    Great food, very fresh sashimi and friendly se...\n",
      "5539406    After finally tasting Lo-Lo's chicken and waff...\n",
      "5243734    My family has been going here for 15 plus year...\n",
      "2179091    My girlfriend and I decided to swing on in and...\n",
      "3174214    This was my favorite hibachi in Vegas...until ...\n",
      "523519     Nice gym with new cardio equipment.  Front des...\n",
      "4636342    Wow.  This is exactly the kind of place Oregon...\n",
      "3218508    My husband and I along with 13 of our friends ...\n",
      "4449264    Best in the business! Vic was very professiona...\n",
      "5885963    I ordered a small real deal pizza for delivery...\n",
      "5160524    Thai Pan is an absolute hidden gem. The food i...\n",
      "2179146    We have gone there many times and their soups ...\n",
      "1863908    Don't bother going there they guy has a bad at...\n",
      "Name: text, Length: 100000, dtype: object\n"
     ]
    }
   ],
   "source": [
    "print(X_train)"
   ]
  },
  {
   "cell_type": "code",
   "execution_count": null,
   "metadata": {},
   "outputs": [],
   "source": [
    "dill.dump_session('note_book_part1.db')"
   ]
  },
  {
   "cell_type": "code",
   "execution_count": null,
   "metadata": {},
   "outputs": [],
   "source": [
    "dill.load_session('note_book_part1.db')"
   ]
  },
  {
   "cell_type": "code",
   "execution_count": 10,
   "metadata": {},
   "outputs": [
    {
     "name": "stderr",
     "output_type": "stream",
     "text": [
      "C:\\Users\\smadh\\Anaconda3\\envs\\keras-gpu\\lib\\site-packages\\sklearn\\linear_model\\logistic.py:433: FutureWarning: Default solver will be changed to 'lbfgs' in 0.22. Specify a solver to silence this warning.\n",
      "  FutureWarning)\n",
      "C:\\Users\\smadh\\Anaconda3\\envs\\keras-gpu\\lib\\site-packages\\sklearn\\linear_model\\logistic.py:460: FutureWarning: Default multi_class will be changed to 'auto' in 0.22. Specify the multi_class option to silence this warning.\n",
      "  \"this warning.\", FutureWarning)\n"
     ]
    },
    {
     "data": {
      "text/plain": [
       "LogisticRegression(C=1.0, class_weight=None, dual=False, fit_intercept=True,\n",
       "          intercept_scaling=1, max_iter=100, multi_class='warn',\n",
       "          n_jobs=None, penalty='l2', random_state=None, solver='warn',\n",
       "          tol=0.0001, verbose=0, warm_start=False)"
      ]
     },
     "execution_count": 10,
     "metadata": {},
     "output_type": "execute_result"
    }
   ],
   "source": [
    "from sklearn.linear_model import LogisticRegression\n",
    "model = LogisticRegression()\n",
    "model.fit(x_train_v, Y_train)"
   ]
  },
  {
   "cell_type": "code",
   "execution_count": 11,
   "metadata": {},
   "outputs": [
    {
     "data": {
      "text/plain": [
       "0.86075"
      ]
     },
     "execution_count": 11,
     "metadata": {},
     "output_type": "execute_result"
    }
   ],
   "source": [
    "from sklearn.metrics import accuracy_score\n",
    "x_test_v = vect.transform(X_test)\n",
    "arr1 = model.predict(x_test_v)\n",
    "accuracy_score(Y_test, arr1)"
   ]
  },
  {
   "cell_type": "markdown",
   "metadata": {},
   "source": [
    "Test Accuracy on 100000 entries"
   ]
  },
  {
   "cell_type": "code",
   "execution_count": 74,
   "metadata": {},
   "outputs": [
    {
     "name": "stdout",
     "output_type": "stream",
     "text": [
      "[-2.14863243e-04 -6.67310796e-05 -4.32488653e-05]\n"
     ]
    }
   ],
   "source": [
    "from sklearn.model_selection import cross_val_score\n",
    "from sklearn import datasets, linear_model\n",
    "lasso = linear_model.Lasso()\n",
    "print(cross_val_score(lasso, x_train_v, Y_train, cv=3)) "
   ]
  },
  {
   "cell_type": "markdown",
   "metadata": {},
   "source": [
    "Cross Validation Score"
   ]
  },
  {
   "cell_type": "code",
   "execution_count": 72,
   "metadata": {},
   "outputs": [
    {
     "data": {
      "text/plain": [
       "0.86075"
      ]
     },
     "execution_count": 72,
     "metadata": {},
     "output_type": "execute_result"
    }
   ],
   "source": [
    "from sklearn.metrics import precision_score\n",
    "precision_score(Y_test, arr1, average='micro')  "
   ]
  },
  {
   "cell_type": "code",
   "execution_count": 78,
   "metadata": {},
   "outputs": [
    {
     "name": "stdout",
     "output_type": "stream",
     "text": [
      "precision,            Recall,           F-Score\n"
     ]
    },
    {
     "data": {
      "text/plain": [
       "(0.7499075633382503, 0.7139933157848324, 0.7266520068476753, None)"
      ]
     },
     "execution_count": 78,
     "metadata": {},
     "output_type": "execute_result"
    }
   ],
   "source": [
    "from sklearn.metrics import precision_recall_fscore_support\n",
    "print(\"precision,\",\"           Recall,\",\"          F-Score\")\n",
    "precision_recall_fscore_support(Y_test, arr1, average='macro')\n"
   ]
  },
  {
   "cell_type": "code",
   "execution_count": null,
   "metadata": {},
   "outputs": [],
   "source": [
    "from sklearn import svm\n",
    "clf = svm.SVC(gamma='scale')\n",
    "clf.fit(x_train_v, Y_train) \n",
    "arr2 = clf.predict([[vect.transform(X_test)]])\n",
    "accuracy_score(Y_test, arr1)"
   ]
  },
  {
   "cell_type": "code",
   "execution_count": 93,
   "metadata": {},
   "outputs": [],
   "source": [
    "input_data1 = pd.DataFrame(X_test)    "
   ]
  },
  {
   "cell_type": "code",
   "execution_count": 88,
   "metadata": {},
   "outputs": [],
   "source": [
    "def printval(x):\n",
    "    lst1 = []\n",
    "    for i in x:\n",
    "        if i==0:\n",
    "            lst1.append(\"negative review\")\n",
    "        elif(i==1):\n",
    "            lst1.append(\"neutral review\")\n",
    "        else:\n",
    "            lst1.append(\"positive review\")\n",
    "    return lst1\n",
    "\n",
    "def actval(val):\n",
    "    if(val==0):\n",
    "        print(\"Yelp Review based on 5 Star Rating -- negative review\")\n",
    "    elif(val==1):\n",
    "          print(\"Yelp Review based on 5 Star Rating -- neutral review\")\n",
    "    else:\n",
    "          print(\"Yelp Review based on 5 Star Rating -- positive review\")"
   ]
  },
  {
   "cell_type": "code",
   "execution_count": 35,
   "metadata": {},
   "outputs": [
    {
     "name": "stdout",
     "output_type": "stream",
     "text": [
      "Review\n",
      "\n",
      "Sign on to a reasonable deal and then watch your monthly rent increase LIKE CRAZY. They are banking on the fact that you won't make the effort to move your stuff to another facility. Also, I signed up for auto-pay and naturally, the credit cards eventually expire. They are merciless about giving you a 25% late fee and wont budge on reversing the charge. Ridiculous, unethical & unscrupulous.\n",
      "\n",
      "Predicted Review  ['negative review']\n",
      "Yelp Review based on 5 Star Rating -- negative review\n"
     ]
    }
   ],
   "source": [
    "print(\"Review\")\n",
    "print(\"\")\n",
    "print(X_test[1223296])\n",
    "print(\"\")\n",
    "print(\"Predicted Review \",printval(model.predict(vect.transform([\"Sign on to a reasonable deal and then watch your monthly rent increase LIKE CRAZY. They are banking on the fact that you won't make the effort to move your stuff to another facility. Also, I signed up for auto-pay and naturally, the credit cards eventually expire. They are merciless about giving you a 25% late fee and wont budge on reversing the charge. Ridiculous, unethical & unscrupulous.\"]))))\n",
    "val = Y_test[1223296]\n",
    "if(val==0):\n",
    "      print(\"Yelp Review based on 5 Star Rating -- negative review\")\n",
    "elif(val==1):\n",
    "      print(\"Yelp Review based on 5 Star Rating -- neutral review\")\n",
    "else:\n",
    "      print(\"Yelp Review based on 5 Star Rating -- positive review\")"
   ]
  },
  {
   "cell_type": "code",
   "execution_count": 95,
   "metadata": {},
   "outputs": [
    {
     "name": "stdout",
     "output_type": "stream",
     "text": [
      "5 Opposite Reviews Predicted by my model\n",
      "-------------------------------------------------\n",
      "Review\n",
      "\n",
      "fabrege  gave me sum maynoaize 4 my homefry and i took it hom and it was good 2 eat lter  but then i ate it and left it on the floor and my big toe got mayoniaise on it :S  just a lil confused :S\n",
      "..................................................\n",
      "Predicted Review --  negative review\n",
      "Yelp Review based on 5 Star Rating -- positive review\n",
      "-------------------------------------------------\n",
      "Review\n",
      "\n",
      "We looked all over the place and still didn't see anything that looked like a pizza place.  We finally had to ask, and I still didn't believe it until I turned the corner and saw the pizza ovens.  \n",
      "\n",
      "The long dark hall, framed on either side with old album covers was a bit nostalgic,  I could see a video game, one of those older arcade types, and a flat screen, but once inside and around the corner, a mall counter and several large pizza's laid before use  to choose our slice, pepperoni with meatball. \n",
      "\n",
      "It was reheated and not bad, it actually retained a good crust, not soggy at all.  We must have been there at just the right time because there wasn't a line, and only three other people around.  I had read there could be a long line and wait A definite must try kind of place.\n",
      "..................................................\n",
      "Predicted Review --  negative review\n",
      "Yelp Review based on 5 Star Rating -- positive review\n",
      "-------------------------------------------------\n",
      "Review\n",
      "\n",
      "I am picky and I'm also not one who is going to go ooooo & aaaaaah over a lot of things.  That being said, in Phoenix, you can't swing a dead cat without hitting an apartment complex.  Andante Apartments has everything pretty much that every other complex has and that being said, I focused on what it didn't have instead to sway decision of living.   I don't smell marijuana in the air when I'm walking my dog at night.  I don't hear people in the parking lot at 4:00 am yelling.  I don't see children running amok or leaving toys outside.  In addition this complex houses a great number of Intel employees and young up-and-coming professionals who are not about partying all night being a nuisance the neighbors.  Do you get it like these people do? They go to work, do their their jobs and come home to a place that they can pridefully say they call home.   Yes I live here,  No I'm not employed by this company but hey, come live with us.   The cost is just right & leaves you with not only some extra money to spend but to save as well.\n",
      "..................................................\n",
      "Predicted Review --  negative review\n",
      "Yelp Review based on 5 Star Rating -- positive review\n",
      "-------------------------------------------------\n",
      "Review\n",
      "\n",
      "The pizzas we ordered were okay (not the best but not the worst either), but the wait to get our food was over an hour due to a large party inside, and staff wasn't very attentive to our table during this hour. Some other tables that ordered after us got their meals first. However, due to the long wait, they brought us a slice tiramisu, which we enjoyed. The tiramisu was delicious!\n",
      "..................................................\n",
      "Predicted Review --  negative review\n",
      "Yelp Review based on 5 Star Rating -- positive review\n",
      "-------------------------------------------------\n",
      "Review\n",
      "\n",
      "I had a chance to walk around this casino, the interior is beautifully designed and the air inside is very clean. A waitress came to take our drink orders as soon as we sat down at the tables, and the drinks were not watered down. Its a long walk from other popular casinos like bellagio, aria and caesars.\n",
      "..................................................\n",
      "Predicted Review --  negative review\n",
      "Yelp Review based on 5 Star Rating -- positive review\n"
     ]
    }
   ],
   "source": [
    "i=0\n",
    "print(\"5 Opposite Reviews Predicted by my model\")\n",
    "indexes = input_data1.index.tolist()\n",
    "for i in indexes:\n",
    "    predict1 = model.predict(vect.transform([X_test[i]]))\n",
    "    if(predict1[0]==0 and Y_test[i]==2):\n",
    "        \n",
    "        print(\"-------------------------------------------------\")\n",
    "        print(\"Review\")\n",
    "        print(\"\")\n",
    "        print(X_test[i])\n",
    "        print(\"..................................................\")\n",
    "       \n",
    "        print(\"Predicted Review -- \",printval(predict1)[0])\n",
    "        actval(Y_test[i])\n",
    "        i+=1\n",
    "    if(i==5):\n",
    "        break\n"
   ]
  },
  {
   "cell_type": "code",
   "execution_count": 96,
   "metadata": {},
   "outputs": [
    {
     "name": "stdout",
     "output_type": "stream",
     "text": [
      "5 Same Reviews Predicted by my model\n",
      "-------------------------------------------------\n",
      "Review\n",
      "\n",
      "Sign on to a reasonable deal and then watch your monthly rent increase LIKE CRAZY. They are banking on the fact that you won't make the effort to move your stuff to another facility. Also, I signed up for auto-pay and naturally, the credit cards eventually expire. They are merciless about giving you a 25% late fee and wont budge on reversing the charge. Ridiculous, unethical & unscrupulous.\n",
      "..................................................\n",
      "Predicted Review --  negative review\n",
      "Yelp Review based on 5 Star Rating -- negative review\n",
      "-------------------------------------------------\n",
      "Review\n",
      "\n",
      "Great service, cool atmosphere and food was fresh and satisfying.\n",
      "\n",
      "Be nice like John.... \n",
      "\n",
      "Definitely recommend this place.\n",
      "..................................................\n",
      "Predicted Review --  positive review\n",
      "Yelp Review based on 5 Star Rating -- positive review\n",
      "-------------------------------------------------\n",
      "Review\n",
      "\n",
      "Roller coaster.... Good!!!!    In fact, amazing.\n",
      "\n",
      "Location of said roller coaster... Even more fabulous.\n",
      "\n",
      "Location of hotel... Not so good.  Especially when you've dressed nice with your lady pals and head on out to the strip.  3 hours later and 30 propositions from strange weirdos later, we finally made it to Caesars palace.  \n",
      "\n",
      "Although I had a great time next time I'd book a place closer to wherever the action is (bellagio, Caesars palace).  The upside is it does have free parking below!!\n",
      "..................................................\n",
      "Predicted Review --  positive review\n",
      "Yelp Review based on 5 Star Rating -- positive review\n",
      "-------------------------------------------------\n",
      "Review\n",
      "\n",
      "PRO: staff was friendly.\n",
      "\n",
      "CONS: Dog got sick from here.  Sneezing and difficulty breathing, which the dog has NEVER had.\n",
      "\n",
      "At $50/day, I think they can do better with their strict warranty.\n",
      "\n",
      "The pricing was not explained clearly and what we thought was $25/day turned out to be $50/day.\n",
      "..................................................\n",
      "Predicted Review --  negative review\n",
      "Yelp Review based on 5 Star Rating -- negative review\n",
      "-------------------------------------------------\n",
      "Review\n",
      "\n",
      "I have three dogs and three cats, and I am very particular about their care.  In 10 years living in Atlanta I never found a vet I was truly happy with.  \n",
      "\n",
      "Upon moving to Charlotte, I am thrilled to have found Atrium Animal Clinic.  My pets have been seen by three of their vets, based on my pets' particular need and the doctors' specialties, and I have been very happy with all of them, both from their medical expertise and bedside manner/demeanor.  The entire staff is always pleasant and friendly to me and my pets.  I love that they offer both holistic and traditional options.  My preference is for a more holistic approach, but I like that the traditional options are available if needed.\n",
      "\n",
      "I cannot imagine taking my pets anywhere else and am so grateful to have found this clinic.\n",
      "..................................................\n",
      "Predicted Review --  positive review\n",
      "Yelp Review based on 5 Star Rating -- positive review\n"
     ]
    }
   ],
   "source": [
    "i=0\n",
    "print(\"5 Same Reviews Predicted by my model\")\n",
    "indexes = input_data1.index.tolist()\n",
    "for i in indexes:\n",
    "    predict1 = model.predict(vect.transform([X_test[i]]))\n",
    "    if(predict1[0]==Y_test[i]):\n",
    "        \n",
    "        print(\"-------------------------------------------------\")\n",
    "        print(\"Review\")\n",
    "        print(\"\")\n",
    "        print(X_test[i])\n",
    "        print(\"..................................................\")\n",
    "       \n",
    "        print(\"Predicted Review -- \",printval(predict1)[0])\n",
    "        actval(Y_test[i])\n",
    "        i+=1\n",
    "    if(i==5):\n",
    "        break\n"
   ]
  },
  {
   "cell_type": "code",
   "execution_count": null,
   "metadata": {},
   "outputs": [],
   "source": []
  }
 ],
 "metadata": {
  "kernelspec": {
   "display_name": "Python 3",
   "language": "python",
   "name": "python3"
  },
  "language_info": {
   "codemirror_mode": {
    "name": "ipython",
    "version": 3
   },
   "file_extension": ".py",
   "mimetype": "text/x-python",
   "name": "python",
   "nbconvert_exporter": "python",
   "pygments_lexer": "ipython3",
   "version": "3.6.5"
  }
 },
 "nbformat": 4,
 "nbformat_minor": 2
}
